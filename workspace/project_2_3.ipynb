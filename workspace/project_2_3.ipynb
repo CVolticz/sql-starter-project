{
 "cells": [
  {
   "cell_type": "markdown",
   "id": "3f465500",
   "metadata": {},
   "source": [
    "# Part 3 - Create and load staging tables"
   ]
  },
  {
   "cell_type": "markdown",
   "id": "33c6e20e",
   "metadata": {},
   "source": [
    "# Included Modules and Packages\n",
    "\n",
    "Code cell containing your includes for modules and packages"
   ]
  },
  {
   "cell_type": "code",
   "execution_count": 1,
   "id": "530d745a",
   "metadata": {},
   "outputs": [],
   "source": [
    "import csv\n",
    "\n",
    "import json\n",
    "\n",
    "import math\n",
    "import numpy as np\n",
    "import pandas as pd\n",
    "\n",
    "import psycopg2"
   ]
  },
  {
   "cell_type": "markdown",
   "id": "c91c8869",
   "metadata": {},
   "source": [
    "# Supporting code\n",
    "\n",
    "Code cells containing any supporting code, such as connecting to the database, any functions, etc.  \n",
    "\n",
    "Remember you can freely use any code from the labs. You do not need to cite code from the labs."
   ]
  },
  {
   "cell_type": "code",
   "execution_count": 2,
   "id": "8e09ebb0",
   "metadata": {},
   "outputs": [],
   "source": [
    "#\n",
    "# function to run a select query and return rows in a pandas dataframe\n",
    "# pandas puts all numeric values from postgres to float\n",
    "# if it will fit in an integer, change it to integer\n",
    "#\n",
    "\n",
    "def my_select_query_pandas(query, rollback_before_flag, rollback_after_flag):\n",
    "    \"function to run a select query and return rows in a pandas dataframe\"\n",
    "    \n",
    "    if rollback_before_flag:\n",
    "        connection.rollback()\n",
    "    \n",
    "    df = pd.read_sql_query(query, connection)\n",
    "    \n",
    "    if rollback_after_flag:\n",
    "        connection.rollback()\n",
    "    \n",
    "    # fix the float columns that really should be integers\n",
    "    \n",
    "    for column in df:\n",
    "    \n",
    "        if df[column].dtype == \"float64\":\n",
    "\n",
    "            fraction_flag = False\n",
    "\n",
    "            for value in df[column].values:\n",
    "                \n",
    "                if not np.isnan(value):\n",
    "                    if value - math.floor(value) != 0:\n",
    "                        fraction_flag = True\n",
    "\n",
    "            if not fraction_flag:\n",
    "                df[column] = df[column].astype('Int64')\n",
    "    \n",
    "    return(df)\n",
    "    "
   ]
  },
  {
   "cell_type": "code",
   "execution_count": 3,
   "id": "5d12068a",
   "metadata": {},
   "outputs": [
    {
     "ename": "OperationalError",
     "evalue": "could not translate host name \"postgres\" to address: Name or service not known\n",
     "output_type": "error",
     "traceback": [
      "\u001b[0;31m---------------------------------------------------------------------------\u001b[0m",
      "\u001b[0;31mOperationalError\u001b[0m                          Traceback (most recent call last)",
      "Cell \u001b[0;32mIn[3], line 1\u001b[0m\n\u001b[0;32m----> 1\u001b[0m connection \u001b[38;5;241m=\u001b[39m \u001b[43mpsycopg2\u001b[49m\u001b[38;5;241;43m.\u001b[39;49m\u001b[43mconnect\u001b[49m\u001b[43m(\u001b[49m\n\u001b[1;32m      2\u001b[0m \u001b[43m    \u001b[49m\u001b[43muser\u001b[49m\u001b[43m \u001b[49m\u001b[38;5;241;43m=\u001b[39;49m\u001b[43m \u001b[49m\u001b[38;5;124;43m\"\u001b[39;49m\u001b[38;5;124;43mpostgres\u001b[39;49m\u001b[38;5;124;43m\"\u001b[39;49m\u001b[43m,\u001b[49m\n\u001b[1;32m      3\u001b[0m \u001b[43m    \u001b[49m\u001b[43mpassword\u001b[49m\u001b[43m \u001b[49m\u001b[38;5;241;43m=\u001b[39;49m\u001b[43m \u001b[49m\u001b[38;5;124;43m\"\u001b[39;49m\u001b[38;5;124;43mproject\u001b[39;49m\u001b[38;5;124;43m\"\u001b[39;49m\u001b[43m,\u001b[49m\n\u001b[1;32m      4\u001b[0m \u001b[43m    \u001b[49m\u001b[43mhost\u001b[49m\u001b[43m \u001b[49m\u001b[38;5;241;43m=\u001b[39;49m\u001b[43m \u001b[49m\u001b[38;5;124;43m\"\u001b[39;49m\u001b[38;5;124;43mpostgres\u001b[39;49m\u001b[38;5;124;43m\"\u001b[39;49m\u001b[43m,\u001b[49m\n\u001b[1;32m      5\u001b[0m \u001b[43m    \u001b[49m\u001b[43mport\u001b[49m\u001b[43m \u001b[49m\u001b[38;5;241;43m=\u001b[39;49m\u001b[43m \u001b[49m\u001b[38;5;124;43m\"\u001b[39;49m\u001b[38;5;124;43m5432\u001b[39;49m\u001b[38;5;124;43m\"\u001b[39;49m\u001b[43m,\u001b[49m\n\u001b[1;32m      6\u001b[0m \u001b[43m    \u001b[49m\u001b[43mdatabase\u001b[49m\u001b[43m \u001b[49m\u001b[38;5;241;43m=\u001b[39;49m\u001b[43m \u001b[49m\u001b[38;5;124;43m\"\u001b[39;49m\u001b[38;5;124;43mpostgres\u001b[39;49m\u001b[38;5;124;43m\"\u001b[39;49m\n\u001b[1;32m      7\u001b[0m \u001b[43m)\u001b[49m\n",
      "File \u001b[0;32m~/.local/lib/python3.9/site-packages/psycopg2/__init__.py:122\u001b[0m, in \u001b[0;36mconnect\u001b[0;34m(dsn, connection_factory, cursor_factory, **kwargs)\u001b[0m\n\u001b[1;32m    119\u001b[0m     kwasync[\u001b[38;5;124m'\u001b[39m\u001b[38;5;124masync_\u001b[39m\u001b[38;5;124m'\u001b[39m] \u001b[38;5;241m=\u001b[39m kwargs\u001b[38;5;241m.\u001b[39mpop(\u001b[38;5;124m'\u001b[39m\u001b[38;5;124masync_\u001b[39m\u001b[38;5;124m'\u001b[39m)\n\u001b[1;32m    121\u001b[0m dsn \u001b[38;5;241m=\u001b[39m _ext\u001b[38;5;241m.\u001b[39mmake_dsn(dsn, \u001b[38;5;241m*\u001b[39m\u001b[38;5;241m*\u001b[39mkwargs)\n\u001b[0;32m--> 122\u001b[0m conn \u001b[38;5;241m=\u001b[39m \u001b[43m_connect\u001b[49m\u001b[43m(\u001b[49m\u001b[43mdsn\u001b[49m\u001b[43m,\u001b[49m\u001b[43m \u001b[49m\u001b[43mconnection_factory\u001b[49m\u001b[38;5;241;43m=\u001b[39;49m\u001b[43mconnection_factory\u001b[49m\u001b[43m,\u001b[49m\u001b[43m \u001b[49m\u001b[38;5;241;43m*\u001b[39;49m\u001b[38;5;241;43m*\u001b[39;49m\u001b[43mkwasync\u001b[49m\u001b[43m)\u001b[49m\n\u001b[1;32m    123\u001b[0m \u001b[38;5;28;01mif\u001b[39;00m cursor_factory \u001b[38;5;129;01mis\u001b[39;00m \u001b[38;5;129;01mnot\u001b[39;00m \u001b[38;5;28;01mNone\u001b[39;00m:\n\u001b[1;32m    124\u001b[0m     conn\u001b[38;5;241m.\u001b[39mcursor_factory \u001b[38;5;241m=\u001b[39m cursor_factory\n",
      "\u001b[0;31mOperationalError\u001b[0m: could not translate host name \"postgres\" to address: Name or service not known\n"
     ]
    }
   ],
   "source": [
    "connection = psycopg2.connect(\n",
    "    user = \"postgres\",\n",
    "    password = \"project\",\n",
    "    host = \"postgres\",\n",
    "    port = \"5432\",\n",
    "    database = \"postgres\"\n",
    ")"
   ]
  },
  {
   "cell_type": "code",
   "execution_count": null,
   "id": "b6e2080e",
   "metadata": {},
   "outputs": [],
   "source": [
    "cursor = connection.cursor()"
   ]
  },
  {
   "cell_type": "markdown",
   "id": "d2e6beed",
   "metadata": {},
   "source": [
    "# 2.3.1 Drop the staging table stage_1_peak_sales if it exists\n",
    "\n",
    "Pattern your code after the examples in the labs.  "
   ]
  },
  {
   "cell_type": "code",
   "execution_count": null,
   "id": "3583ee6e",
   "metadata": {},
   "outputs": [],
   "source": [
    "connection.rollback()\n",
    "\n",
    "query = \"\"\"\n",
    "\n",
    "Replace with your SQL\n",
    "\n",
    "\"\"\"\n",
    "\n",
    "cursor.execute(query)\n",
    "\n",
    "connection.commit()\n",
    "\n"
   ]
  },
  {
   "cell_type": "markdown",
   "id": "5ad24a30",
   "metadata": {},
   "source": [
    "# 2.3.2 Drop the staging table stage_1_peak_stores if it exists\n",
    "\n",
    "Pattern your code after the examples in the labs."
   ]
  },
  {
   "cell_type": "code",
   "execution_count": null,
   "id": "afd095c4",
   "metadata": {},
   "outputs": [],
   "source": [
    "connection.rollback()\n",
    "\n",
    "query = \"\"\"\n",
    "\n",
    "Replace with your SQL\n",
    "\n",
    "\"\"\"\n",
    "\n",
    "cursor.execute(query)\n",
    "\n",
    "connection.commit()\n",
    "\n"
   ]
  },
  {
   "cell_type": "markdown",
   "id": "3962bec1",
   "metadata": {},
   "source": [
    "# 2.3.3 Drop the staging table stage_1_peak_customers if it exists\n",
    "\n",
    "Pattern your code after the examples in the labs.  "
   ]
  },
  {
   "cell_type": "code",
   "execution_count": null,
   "id": "fe433689",
   "metadata": {},
   "outputs": [],
   "source": [
    "connection.rollback()\n",
    "\n",
    "query = \"\"\"\n",
    "\n",
    "Replace with your SQL\n",
    "\n",
    "\"\"\"\n",
    "\n",
    "cursor.execute(query)\n",
    "\n",
    "connection.commit()\n",
    "\n"
   ]
  },
  {
   "cell_type": "markdown",
   "id": "c5c1e425",
   "metadata": {},
   "source": [
    "# 2.3.4 Drop the staging table stage_1_peak_line_items if it exists\n",
    "\n",
    "Pattern your code after the examples in the labs. "
   ]
  },
  {
   "cell_type": "code",
   "execution_count": null,
   "id": "fd93148a",
   "metadata": {},
   "outputs": [],
   "source": [
    "connection.rollback()\n",
    "\n",
    "query = \"\"\"\n",
    "\n",
    "Replace with your SQL\n",
    "\n",
    "\"\"\"\n",
    "\n",
    "cursor.execute(query)\n",
    "\n",
    "connection.commit()\n",
    "\n"
   ]
  },
  {
   "cell_type": "markdown",
   "id": "9b6b3f97",
   "metadata": {},
   "source": [
    "# 2.3.5 Create the staging table stage_1_peak_sales\n",
    "\n",
    "Use the same technique we used in the labs.\n",
    "\n",
    "The first column should be stage_id with the data type as serial.\n",
    "\n",
    "For each field in the CSV file, create a column as varchar(100).\n",
    "\n",
    "Remember we do not set a primary key in staging tables.\n",
    "\n",
    "Pattern your code after the examples in the labs."
   ]
  },
  {
   "cell_type": "code",
   "execution_count": null,
   "id": "2a134f5a",
   "metadata": {},
   "outputs": [],
   "source": [
    "connection.rollback()\n",
    "\n",
    "query = \"\"\"\n",
    "\n",
    "Replace with your SQL\n",
    "\n",
    "\"\"\"\n",
    "\n",
    "cursor.execute(query)\n",
    "\n",
    "connection.commit()\n",
    "\n"
   ]
  },
  {
   "cell_type": "markdown",
   "id": "027a3986",
   "metadata": {},
   "source": [
    "# 2.3.6 Create the staging table stage_1_peak_stores\n",
    "\n",
    "Use the same technique we used in the labs.\n",
    "\n",
    "The first column should be stage_id with data type as serial.\n",
    "\n",
    "For each field in the CSV file, create a column as varchar(100).\n",
    "\n",
    "Remember we do not set a primary key in staging tables.\n",
    "\n",
    "Pattern your code after the examples in the labs. "
   ]
  },
  {
   "cell_type": "code",
   "execution_count": null,
   "id": "1b2ea3a3",
   "metadata": {},
   "outputs": [],
   "source": [
    "connection.rollback()\n",
    "\n",
    "query = \"\"\"\n",
    "\n",
    "Replace with your SQL\n",
    "\n",
    "\"\"\"\n",
    "\n",
    "cursor.execute(query)\n",
    "\n",
    "connection.commit()\n",
    "\n"
   ]
  },
  {
   "cell_type": "markdown",
   "id": "db8d8bb7",
   "metadata": {},
   "source": [
    "# 2.3.7 Create the staging table stage_1_peak_customers\n",
    "\n",
    "Use the same technique we used in the labs.\n",
    "\n",
    "The first column should be stage_id with data type as serial.\n",
    "\n",
    "For each field in the CSV file, create a column as varchar(100).\n",
    "\n",
    "Remember we do not set a primary key in staging tables.\n",
    "\n",
    "Pattern your code after the examples in the labs."
   ]
  },
  {
   "cell_type": "code",
   "execution_count": null,
   "id": "2b09f1b3",
   "metadata": {},
   "outputs": [],
   "source": [
    "connection.rollback()\n",
    "\n",
    "query = \"\"\"\n",
    "\n",
    "Replace with your SQL\n",
    "\n",
    "\"\"\"\n",
    "\n",
    "cursor.execute(query)\n",
    "\n",
    "connection.commit()\n",
    "\n"
   ]
  },
  {
   "cell_type": "markdown",
   "id": "37c5a8ae",
   "metadata": {},
   "source": [
    "# 2.3.8 Create the staging table stage_1_peak_line_items\n",
    "\n",
    "Use the same technique we used in the labs.\n",
    "\n",
    "The first column should be stage_id with data type as serial.\n",
    "\n",
    "For each field in the CSV file, create a column as varchar(100).\n",
    "\n",
    "Remember we do not set a primary key in staging tables.\n",
    "\n",
    "Pattern your code after the examples in the labs."
   ]
  },
  {
   "cell_type": "code",
   "execution_count": null,
   "id": "c82391ad",
   "metadata": {},
   "outputs": [],
   "source": [
    "connection.rollback()\n",
    "\n",
    "query = \"\"\"\n",
    "\n",
    "Replace with your SQL\n",
    "\n",
    "\"\"\"\n",
    "\n",
    "cursor.execute(query)\n",
    "\n",
    "connection.commit()\n",
    "\n"
   ]
  },
  {
   "cell_type": "markdown",
   "id": "1bcdea38",
   "metadata": {},
   "source": [
    "# 2.3.9 Load the CSV file peak_sales.csv into the table stage_1_peak_sales\n",
    "\n",
    "Use the same technique we used in the labs.\n",
    "\n",
    "Remember the stage_id column is a serial and will auto populate, so we need to leave it off the column list for the load.\n",
    "\n",
    "Pattern your code after the examples in the labs. "
   ]
  },
  {
   "cell_type": "code",
   "execution_count": null,
   "id": "5ca0d5f2",
   "metadata": {},
   "outputs": [],
   "source": [
    "connection.rollback()\n",
    "\n",
    "query = \"\"\"\n",
    "\n",
    "Replace with your SQL\n",
    "\n",
    "\"\"\"\n",
    "\n",
    "cursor.execute(query)\n",
    "\n",
    "connection.commit()"
   ]
  },
  {
   "cell_type": "markdown",
   "id": "d1cfcfd1",
   "metadata": {},
   "source": [
    "# 2.3.10 Load the CSV file peak_stores.csv into the table stage_1_peak_stores\n",
    "\n",
    "Use the same technique we used in the labs.\n",
    "\n",
    "Remember the stage_id column is a serial and will auto populate, so we need to leave it off the column list for the load.\n",
    "\n",
    "Pattern your code after the examples in the labs. "
   ]
  },
  {
   "cell_type": "code",
   "execution_count": null,
   "id": "aef6f2db",
   "metadata": {},
   "outputs": [],
   "source": [
    "connection.rollback()\n",
    "\n",
    "query = \"\"\"\n",
    "\n",
    "Replace with your SQL\n",
    "\n",
    "\"\"\"\n",
    "\n",
    "cursor.execute(query)\n",
    "\n",
    "connection.commit()"
   ]
  },
  {
   "cell_type": "markdown",
   "id": "c9be7047",
   "metadata": {},
   "source": [
    "# 2.3.11 Load the CSV file peak_customers.csv into the table stage_1_peak_customers\n",
    "\n",
    "Use the same technique we used in the labs.\n",
    "\n",
    "Remember the stage_id column is a serial and will auto populate, so we need to leave it off the column list for the load.\n",
    "\n",
    "Pattern your code after the examples in the labs. "
   ]
  },
  {
   "cell_type": "code",
   "execution_count": null,
   "id": "237e077e",
   "metadata": {},
   "outputs": [],
   "source": [
    "connection.rollback()\n",
    "\n",
    "query = \"\"\"\n",
    "\n",
    "Replace with your SQL\n",
    "\n",
    "\"\"\"\n",
    "\n",
    "cursor.execute(query)\n",
    "\n",
    "connection.commit()"
   ]
  },
  {
   "cell_type": "markdown",
   "id": "7a93d483",
   "metadata": {},
   "source": [
    "# 2.3.12 Load the CSV file peak_line_items.csv into the table stage_1_peak_line_items\n",
    "\n",
    "Use the same technique we used in the labs.\n",
    "\n",
    "Remember the stage_id column is a serial and will auto populate, so we need to leave it off the column list for the load.\n",
    "\n",
    "Pattern your code after the examples in the labs. "
   ]
  },
  {
   "cell_type": "code",
   "execution_count": null,
   "id": "18636a3a",
   "metadata": {},
   "outputs": [],
   "source": [
    "connection.rollback()\n",
    "\n",
    "query = \"\"\"\n",
    "\n",
    "Replace with your SQL\n",
    "\n",
    "\"\"\"\n",
    "\n",
    "cursor.execute(query)\n",
    "\n",
    "connection.commit()"
   ]
  },
  {
   "cell_type": "markdown",
   "id": "60e43ccc",
   "metadata": {},
   "source": [
    "# 2.3.13 Verify the load of stage_1_peak_sales by querying the entire table\n",
    "\n",
    "Query the entire table into a Pandas dataframe.  \n",
    "\n",
    "Remember to sort by stage_id so the rows are in the same order as the CSV file to make comparison easier.\n",
    "\n",
    "Pattern your code after the examples in the labs.  \n",
    "\n",
    "The query should return 97 rows into a Pandas dataframe. The first and last rows should look similar to this: \n",
    "\n",
    "||stage_id|sale_id|sale_date|sub_total|tax|total_amount|\n",
    "|---|---|---|---|---|---|---|\n",
    "|0|1|5763728874|2020-10-03|12|0|12|\n",
    "|...|...|...|...|...|...|...|\n",
    "|96|97|5763728673|2020-10-03|48|0|48|"
   ]
  },
  {
   "cell_type": "code",
   "execution_count": null,
   "id": "96a2ed38",
   "metadata": {},
   "outputs": [],
   "source": [
    "rollback_before_flag = True\n",
    "rollback_after_flag = True\n",
    "\n",
    "query = \"\"\"\n",
    "\n",
    "Replace with your SQL\n",
    "\n",
    "\"\"\"\n",
    "\n",
    "my_select_query_pandas(query, rollback_before_flag, rollback_after_flag)"
   ]
  },
  {
   "cell_type": "markdown",
   "id": "473fd36d",
   "metadata": {},
   "source": [
    "# 2.3.14 Verify the load of stage_1_peak_stores by querying the entire table\n",
    "\n",
    "Query the entire table into a Pandas dataframe.  \n",
    "\n",
    "Remember to sort by stage_id so the rows are in the same order as the CSV file to make comparison easier.\n",
    "\n",
    "Pattern your code after the examples in the labs.  \n",
    "\n",
    "The query should return 97 rows into a Pandas dataframe. The first and last rows should look similar to this: \n",
    "\n",
    "||stage_id|sale_id|location_id|name|street|city|state|zip|\n",
    "|---|---|---|---|---|---|---|---|---|\n",
    "|0|1|5763728874|12573|Acme Gourmet Meals|3000 Telegraph Ave|Berkeley|CA|94705|\n",
    "|...|...|...|...|...|...|...|...|...|\n",
    "|96|97|5763728673|12573|Acme Gourmet Meals|3000 Telegraph Ave|Berkeley|CA|94705|"
   ]
  },
  {
   "cell_type": "code",
   "execution_count": null,
   "id": "05098a37",
   "metadata": {},
   "outputs": [],
   "source": [
    "rollback_before_flag = True\n",
    "rollback_after_flag = True\n",
    "\n",
    "query = \"\"\"\n",
    "\n",
    "Replace with your SQL\n",
    "\n",
    "\"\"\"\n",
    "\n",
    "my_select_query_pandas(query, rollback_before_flag, rollback_after_flag)"
   ]
  },
  {
   "cell_type": "markdown",
   "id": "1402684b",
   "metadata": {},
   "source": [
    "# 2.3.15 Verify the load of stage_1_peak_customers by querying the entire table\n",
    "\n",
    "Query the entire table into a Pandas dataframe.  \n",
    "\n",
    "Remember to sort by stage_id so the rows are in the same order as the CSV file to make comparison easier.\n",
    "\n",
    "Pattern your code after the examples in the labs.  \n",
    "\n",
    "The query should return 97 rows into a Pandas dataframe. The first and last rows should look similar to this: \n",
    "\n",
    "||stage_id|sale_id|customer_id|first_name|last_name|street|city|state|zip|\n",
    "|---|---|---|---|---|---|---|---|---|---|\n",
    "|0|1|5763728874|3728404|Darrelle|Dohrmann|46 Farwell Terrace|Oakland|CA|94609|\n",
    "|...|...|...|...|...|...|...|...|...|...|\n",
    "|96|97|5763728673|3728691|Eula|Dewair|3 Crownhardt Road|Albany|CA|94706|\n"
   ]
  },
  {
   "cell_type": "code",
   "execution_count": null,
   "id": "725fb77a",
   "metadata": {},
   "outputs": [],
   "source": [
    "rollback_before_flag = True\n",
    "rollback_after_flag = True\n",
    "\n",
    "query = \"\"\"\n",
    "\n",
    "Replace with your SQL\n",
    "\n",
    "\"\"\"\n",
    "\n",
    "my_select_query_pandas(query, rollback_before_flag, rollback_after_flag)"
   ]
  },
  {
   "cell_type": "markdown",
   "id": "50a50422",
   "metadata": {},
   "source": [
    "# 2.3.16 Verify the load of stage_1_peak_line_items by querying the entire table\n",
    "\n",
    "Query the entire table into a Pandas dataframe.  \n",
    "\n",
    "Remember to sort by stage_id so the rows are in the same order as the CSV file to make comparison easier.\n",
    "\n",
    "Pattern your code after the examples in the labs.\n",
    "\n",
    "The query should return 352 rows into a Pandas dataframe. The first and last rows should look similar to this: \n",
    "\n",
    "||stage_id|sale_id|line_item_id|product_id|price|quantity|taxable|\n",
    "|---|---|---|---|---|---|---|---|\n",
    "|0|1|5763728874|1|42314780|12|1|N|\n",
    "|...|...|...|...|...|...|...|...|\n",
    "|351|352|5763728673|3|42314782|12|1|N|"
   ]
  },
  {
   "cell_type": "code",
   "execution_count": null,
   "id": "41051998",
   "metadata": {},
   "outputs": [],
   "source": [
    "rollback_before_flag = True\n",
    "rollback_after_flag = True\n",
    "\n",
    "query = \"\"\"\n",
    "\n",
    "Replace with your SQL\n",
    "\n",
    "\"\"\"\n",
    "\n",
    "my_select_query_pandas(query, rollback_before_flag, rollback_after_flag)"
   ]
  }
 ],
 "metadata": {
  "kernelspec": {
   "display_name": "Python 3 (ipykernel)",
   "language": "python",
   "name": "python3"
  },
  "language_info": {
   "codemirror_mode": {
    "name": "ipython",
    "version": 3
   },
   "file_extension": ".py",
   "mimetype": "text/x-python",
   "name": "python",
   "nbconvert_exporter": "python",
   "pygments_lexer": "ipython3",
   "version": "3.9.17"
  }
 },
 "nbformat": 4,
 "nbformat_minor": 5
}
